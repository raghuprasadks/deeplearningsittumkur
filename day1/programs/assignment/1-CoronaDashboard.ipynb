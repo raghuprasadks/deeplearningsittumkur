{
 "cells": [
  {
   "cell_type": "code",
   "execution_count": 1,
   "id": "3d58ca7c",
   "metadata": {},
   "outputs": [
    {
     "name": "stdout",
     "output_type": "stream",
     "text": [
      "corona dashboard\n"
     ]
    }
   ],
   "source": [
    "print('corona dashboard')"
   ]
  },
  {
   "cell_type": "code",
   "execution_count": 4,
   "id": "64b944a3",
   "metadata": {},
   "outputs": [
    {
     "name": "stdout",
     "output_type": "stream",
     "text": [
      "corona dashboard  [['state', 'total', 'active', 'cured', 'death'], ['karnataka', 10000, 2000, 7000, 1000], ['kerala', 20000, 8000, 6000, 4000]]\n"
     ]
    }
   ],
   "source": [
    "coronadashboard = []\n",
    "header = ['state','total','active','cured','death']\n",
    "state1 = ['karnataka',10000,2000,7000,1000]\n",
    "state2= ['kerala',20000,8000,6000,4000]\n",
    "coronadashboard.append(header)\n",
    "coronadashboard.append(state1)\n",
    "coronadashboard.append(state2)\n",
    "\n",
    "print('corona dashboard ',coronadashboard)\n"
   ]
  },
  {
   "cell_type": "code",
   "execution_count": 5,
   "id": "4ac0eb5b",
   "metadata": {},
   "outputs": [
    {
     "name": "stdout",
     "output_type": "stream",
     "text": [
      "0\n",
      "1\n",
      "2\n"
     ]
    }
   ],
   "source": [
    "for i in range (len(coronadashboard)):\n",
    "    print(i)"
   ]
  },
  {
   "cell_type": "code",
   "execution_count": 7,
   "id": "4bacb6be",
   "metadata": {},
   "outputs": [
    {
     "name": "stdout",
     "output_type": "stream",
     "text": [
      "1\n",
      "2\n"
     ]
    }
   ],
   "source": [
    "for i in range (len(coronadashboard)):\n",
    "    if (i==0):\n",
    "        continue\n",
    "    \n",
    "    print(i)"
   ]
  },
  {
   "cell_type": "code",
   "execution_count": 9,
   "id": "d922dc95",
   "metadata": {},
   "outputs": [
    {
     "name": "stdout",
     "output_type": "stream",
     "text": [
      "maximum cases  20000\n",
      "details of the state having maximum cases  ['kerala', 20000, 8000, 6000, 4000]\n"
     ]
    }
   ],
   "source": [
    "maxcases = 0\n",
    "maxstateindex = 0\n",
    "for i in range (len(coronadashboard)):\n",
    "    if (i==0):\n",
    "        continue\n",
    "    statemax = coronadashboard[i][1]  \n",
    "    if (statemax > maxcases):\n",
    "        maxcases = statemax\n",
    "        maxstateindex = i\n",
    "print('maximum cases ',maxcases)\n",
    "print('details of the state having maximum cases ',coronadashboard[maxstateindex])\n",
    "    "
   ]
  },
  {
   "cell_type": "code",
   "execution_count": null,
   "id": "f06a3fb5",
   "metadata": {},
   "outputs": [],
   "source": []
  }
 ],
 "metadata": {
  "kernelspec": {
   "display_name": "Python 3",
   "language": "python",
   "name": "python3"
  },
  "language_info": {
   "codemirror_mode": {
    "name": "ipython",
    "version": 3
   },
   "file_extension": ".py",
   "mimetype": "text/x-python",
   "name": "python",
   "nbconvert_exporter": "python",
   "pygments_lexer": "ipython3",
   "version": "3.8.8"
  }
 },
 "nbformat": 4,
 "nbformat_minor": 5
}
